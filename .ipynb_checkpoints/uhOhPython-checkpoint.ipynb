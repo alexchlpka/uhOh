{
 "cells": [
  {
   "cell_type": "code",
   "execution_count": 18,
   "metadata": {},
   "outputs": [
    {
     "name": "stdin",
     "output_type": "stream",
     "text": [
      "What is your name? duncan\n",
      "Please enter your lab grade out of 100. Enter 'done' when finished. 100\n",
      "Please enter your lab grade out of 100. Enter 'done' when finished. 1000\n"
     ]
    },
    {
     "name": "stdout",
     "output_type": "stream",
     "text": [
      "Please enter a value between 0 and 100\n"
     ]
    },
    {
     "name": "stdin",
     "output_type": "stream",
     "text": [
      "Please enter your lab grade out of 100. Enter 'done' when finished. 1000000\n"
     ]
    },
    {
     "name": "stdout",
     "output_type": "stream",
     "text": [
      "Please enter a value between 0 and 100\n"
     ]
    },
    {
     "name": "stdin",
     "output_type": "stream",
     "text": [
      "Please enter your lab grade out of 100. Enter 'done' when finished. 99.99\n",
      "Please enter your lab grade out of 100. Enter 'done' when finished. 57.34\n",
      "Please enter your lab grade out of 100. Enter 'done' when finished. 42.8234572385\n",
      "Please enter your lab grade out of 100. Enter 'done' when finished. 88.88\n",
      "Please enter your lab grade out of 100. Enter 'done' when finished. 55\n",
      "Please enter your lab grade out of 100. Enter 'done' when finished. 77.798\n",
      "Please enter your lab grade out of 100. Enter 'done' when finished. 99.56\n",
      "Please enter your lab grade out of 100. Enter 'done' when finished. 95.495\n",
      "Please enter your lab grade out of 100. Enter 'done' when finished. done\n"
     ]
    },
    {
     "name": "stdout",
     "output_type": "stream",
     "text": [
      "Duncan, your average lab grade is: 79.11%\n"
     ]
    }
   ],
   "source": [
    "nameStr = \"What is your name?\"\n",
    "gradeStr = \"Please enter your lab grade out of 100. Enter 'done' when finished.\"\n",
    "aveScoreStr = \"{}, your average lab grade is: {:.2f}%\"\n",
    "rangeErrorStr = \"Please enter a value between 0 and 100\"\n",
    "failedStr = \"You did not enter any valid grades. Please restart the program.\"\n",
    "scoreTotal = 0.00\n",
    "scoreSum = 0.00\n",
    "scoreAve = 0.00\n",
    "name = input(nameStr)\n",
    "name = name.capitalize()\n",
    "while True:\n",
    "    labGrade = input(gradeStr)\n",
    "    try:\n",
    "        labGrade = float(labGrade)\n",
    "        labGrade = int(labGrade)\n",
    "        scoreSum = scoreSum + labGrade\n",
    "        scoreTotal = scoreTotal + 1\n",
    "    except:\n",
    "        if scoreTotal == 0:\n",
    "            print(failedStr)\n",
    "        else:\n",
    "            scoreAve = float(scoreSum/scoreTotal)\n",
    "            print(aveScoreStr.format(name,scoreAve))\n",
    "        break\n",
    "    if labGrade > 100 or labGrade < 0:\n",
    "        scoreSum = scoreSum - labGrade\n",
    "        scoreTotal = scoreTotal - 1\n",
    "        print(rangeErrorStr)"
   ]
  },
  {
   "cell_type": "code",
   "execution_count": null,
   "metadata": {},
   "outputs": [],
   "source": []
  }
 ],
 "metadata": {
  "kernelspec": {
   "display_name": "Python 3.7",
   "language": "python",
   "name": "python3"
  },
  "language_info": {
   "codemirror_mode": {
    "name": "ipython",
    "version": 3
   },
   "file_extension": ".py",
   "mimetype": "text/x-python",
   "name": "python",
   "nbconvert_exporter": "python",
   "pygments_lexer": "ipython3",
   "version": "3.7.0"
  }
 },
 "nbformat": 4,
 "nbformat_minor": 2
}
